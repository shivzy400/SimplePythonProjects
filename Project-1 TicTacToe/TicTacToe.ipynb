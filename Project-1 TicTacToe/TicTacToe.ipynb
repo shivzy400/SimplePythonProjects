{
 "cells": [
  {
   "cell_type": "markdown",
   "metadata": {},
   "source": [
    "# Tic Tac Toe"
   ]
  },
  {
   "cell_type": "markdown",
   "metadata": {},
   "source": [
    "### Required Libraries"
   ]
  },
  {
   "cell_type": "code",
   "execution_count": 1,
   "metadata": {},
   "outputs": [],
   "source": [
    "from IPython.display import clear_output"
   ]
  },
  {
   "cell_type": "markdown",
   "metadata": {},
   "source": [
    "### Data Structure Required"
   ]
  },
  {
   "cell_type": "code",
   "execution_count": 2,
   "metadata": {},
   "outputs": [],
   "source": [
    "position = []\n",
    "p1_score ,p2_score = 0 , 0\n",
    "def initialize_positions() :\n",
    "    global position\n",
    "    position = [' '] * 10\n",
    "    position[0] = '#'"
   ]
  },
  {
   "cell_type": "markdown",
   "metadata": {},
   "source": [
    "### Initail Input(s)"
   ]
  },
  {
   "cell_type": "code",
   "execution_count": 3,
   "metadata": {},
   "outputs": [],
   "source": [
    "def initial_inputs() :\n",
    "    p1_char , p2_char = '' , ''\n",
    "    while p1_char not in ['X' , 'O'] :\n",
    "        p1_char = input('Which character do you want for Player 1 (X/O) ? : ')\n",
    "        if p1_char not in ['X' , 'O'] :\n",
    "            print('Invalid Character please try again...')\n",
    "        if p1_char == 'X' :\n",
    "            p2_char = 'O'\n",
    "        else :\n",
    "            p2_char = 'X'\n",
    "\n",
    "    print(f'Character for Player 1 : {p1_char}')\n",
    "    print(f'Character for Player 2 : {p2_char}')\n",
    "    \n",
    "    return [p1_char , p2_char]"
   ]
  },
  {
   "cell_type": "markdown",
   "metadata": {},
   "source": [
    "### Displaying Board"
   ]
  },
  {
   "cell_type": "code",
   "execution_count": 4,
   "metadata": {},
   "outputs": [],
   "source": [
    "def print_board(positions) :\n",
    "    board = [\n",
    "        [positions[7] , '|' , positions[8] , '|' , positions[9]],\n",
    "        ['-' , '-' , '-' , '-' , '-' , '-'] ,\n",
    "        [positions[4] , '|' , positions[5] , '|' , positions[6]],\n",
    "        ['-' , '-' , '-' , '-' , '-' , '-'] ,\n",
    "        [positions[1] , '|' , positions[2] , '|' , positions[3]],\n",
    "        \n",
    "    ]\n",
    "    for i in range(5) :\n",
    "        for j in range(len(board[i])) :\n",
    "            print(board[i][j] , end= '  ')\n",
    "        print()\n"
   ]
  },
  {
   "cell_type": "markdown",
   "metadata": {},
   "source": [
    "### Game Logic"
   ]
  },
  {
   "cell_type": "code",
   "execution_count": 5,
   "metadata": {},
   "outputs": [],
   "source": [
    "def game_over() :\n",
    "    global position\n",
    "    if (\n",
    "        (position[1] == position[2] == position[3] == 'X') or (position[1] == position[2] == position[3] == 'O') or\n",
    "        (position[4] == position[5] == position[6] == 'X') or (position[4] == position[5] == position[6] == 'O') or\n",
    "        (position[7] == position[8] == position[9] == 'X') or (position[7] == position[8] == position[9] == 'O') or \n",
    "        (position[1] == position[4] == position[7] == 'X') or (position[1] == position[4] == position[7] == 'O') or\n",
    "        (position[2] == position[5] == position[8] == 'X') or (position[2] == position[5] == position[8] == 'O') or\n",
    "        (position[3] == position[6] == position[9] == 'X') or (position[3] == position[6] == position[9] == 'O') or\n",
    "        (position[1] == position[5] == position[9] == 'X') or (position[1] == position[5] == position[9] == 'O') or\n",
    "        (position[3] == position[5] == position[7] == 'X') or (position[3] == position[5] == position[7] == 'O')\n",
    "    ) :\n",
    "        return True\n",
    "    else :\n",
    "        return False\n",
    "    "
   ]
  },
  {
   "cell_type": "code",
   "execution_count": 6,
   "metadata": {},
   "outputs": [],
   "source": [
    "def is_position_filled() :\n",
    "    global position\n",
    "    count = 0\n",
    "    for pos in position :\n",
    "        if pos != ' ' :\n",
    "            count = count + 1\n",
    "    if count == len(position) :\n",
    "        return True\n",
    "    return False"
   ]
  },
  {
   "cell_type": "code",
   "execution_count": 7,
   "metadata": {},
   "outputs": [],
   "source": [
    "def tic_tac_toe(characters) :\n",
    "    global position\n",
    "    global p1_score\n",
    "    global p2_score\n",
    "    \n",
    "    turn = 0\n",
    "    pos = 0\n",
    "    while True :\n",
    "\n",
    "        pos = int(input(f'For Player {turn + 1} - Enter Position : '))\n",
    "        if position[pos] in characters :\n",
    "            continue\n",
    "        position[pos] = characters[turn]\n",
    "        clear_output()\n",
    "        print_board(position)\n",
    "        if game_over() :\n",
    "            if turn == 0 :\n",
    "                p1_score += 1\n",
    "                print('Player 1 Wins')\n",
    "            else :\n",
    "                p2_score += 1\n",
    "                print('Player 2 Wins')\n",
    "            break\n",
    "        elif is_position_filled() :\n",
    "            print('Its a Draw')\n",
    "            break\n",
    "        if turn == 0 :\n",
    "            turn = 1\n",
    "        else :\n",
    "            turn = 0    "
   ]
  },
  {
   "cell_type": "code",
   "execution_count": 8,
   "metadata": {},
   "outputs": [],
   "source": [
    "#display score\n",
    "def display_score() :\n",
    "    global p1_score\n",
    "    global p2_score\n",
    "    print(f'Player 1 : {p1_score}\\nPlayer 2 : {p2_score}')\n",
    "p1_score , p2_score = 0 , 0"
   ]
  },
  {
   "cell_type": "code",
   "execution_count": null,
   "metadata": {},
   "outputs": [
    {
     "name": "stdout",
     "output_type": "stream",
     "text": [
      "O  |  X  |  X  \n",
      "-  -  -  -  -  -  \n",
      "X  |  X  |  O  \n",
      "-  -  -  -  -  -  \n",
      "O  |  X  |  O  \n",
      "Player 1 Wins\n",
      "Player 1 : 2\n",
      "Player 2 : 1\n"
     ]
    }
   ],
   "source": [
    "for i in range(10) :\n",
    "    # intialize positions\n",
    "    initialize_positions()\n",
    "\n",
    "    # take inputs\n",
    "    characters = initial_inputs()\n",
    "\n",
    "    # actual game logic\n",
    "    tic_tac_toe(characters)\n",
    "\n",
    "    display_score()"
   ]
  },
  {
   "cell_type": "code",
   "execution_count": null,
   "metadata": {},
   "outputs": [],
   "source": []
  },
  {
   "cell_type": "code",
   "execution_count": null,
   "metadata": {},
   "outputs": [],
   "source": []
  },
  {
   "cell_type": "code",
   "execution_count": null,
   "metadata": {},
   "outputs": [],
   "source": []
  },
  {
   "cell_type": "code",
   "execution_count": null,
   "metadata": {},
   "outputs": [],
   "source": []
  }
 ],
 "metadata": {
  "kernelspec": {
   "display_name": "Python 3",
   "language": "python",
   "name": "python3"
  },
  "language_info": {
   "codemirror_mode": {
    "name": "ipython",
    "version": 3
   },
   "file_extension": ".py",
   "mimetype": "text/x-python",
   "name": "python",
   "nbconvert_exporter": "python",
   "pygments_lexer": "ipython3",
   "version": "3.7.4"
  }
 },
 "nbformat": 4,
 "nbformat_minor": 2
}
