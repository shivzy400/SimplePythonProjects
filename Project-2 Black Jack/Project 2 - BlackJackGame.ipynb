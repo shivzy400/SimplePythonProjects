{
 "cells": [
  {
   "cell_type": "markdown",
   "metadata": {},
   "source": [
    "# Project-2 : BlackJack Game "
   ]
  },
  {
   "cell_type": "markdown",
   "metadata": {},
   "source": [
    "## Some Constant Global Values "
   ]
  },
  {
   "cell_type": "code",
   "execution_count": 1,
   "metadata": {},
   "outputs": [],
   "source": [
    "import random\n",
    "suits = ('Hearts' , 'Spades' , 'Clubs' , 'Diamonds')\n",
    "ranks = ('Two' , 'Three' , 'Four' , 'Five' , 'Six' , 'Seven' , 'Eight' , 'Nine' , 'Ten' , 'Jack' , 'Queen' , 'King' , 'Ace')\n",
    "values = {\n",
    "    'Two' : 2 , 'Three' : 3 , 'Four' : 4 ,\n",
    "    'Five' : 5 , 'Six' : 6 , 'Seven' : 7 ,\n",
    "    'Eight' : 8 , 'Nine' : 9 , 'Ten' : 10,\n",
    "    'Jack' : 10 , 'Queen' : 10 , 'King' : 10,\n",
    "    'Ace' : 11\n",
    "}"
   ]
  },
  {
   "cell_type": "markdown",
   "metadata": {},
   "source": [
    "### Card Class "
   ]
  },
  {
   "cell_type": "code",
   "execution_count": 2,
   "metadata": {},
   "outputs": [],
   "source": [
    "class Card : \n",
    "    def __init__(self , suit , rank) :\n",
    "        self.suit = suit\n",
    "        self.rank = rank\n",
    "        \n",
    "    def __str__(self) :\n",
    "        return f'[{self.rank} of {self.suit}]'"
   ]
  },
  {
   "cell_type": "code",
   "execution_count": 3,
   "metadata": {},
   "outputs": [
    {
     "name": "stdout",
     "output_type": "stream",
     "text": [
      "[Two of Hearts]\n"
     ]
    }
   ],
   "source": [
    "print(Card('Hearts' , 'Two'))"
   ]
  },
  {
   "cell_type": "markdown",
   "metadata": {},
   "source": [
    "### Deck Class "
   ]
  },
  {
   "cell_type": "code",
   "execution_count": 4,
   "metadata": {},
   "outputs": [],
   "source": [
    "class Deck :\n",
    "    def __init__(self) :\n",
    "        self.cards = []\n",
    "        \n",
    "        for suit in suits :\n",
    "            for rank in ranks :\n",
    "                self.cards.append(Card(suit,rank))\n",
    "    \n",
    "    def shuffle(self) :\n",
    "        random.shuffle(self.cards)\n",
    "        \n",
    "    def deal(self) :\n",
    "        return self.cards.pop(0)"
   ]
  },
  {
   "cell_type": "code",
   "execution_count": 5,
   "metadata": {},
   "outputs": [
    {
     "name": "stdout",
     "output_type": "stream",
     "text": [
      "[Nine of Spades]\n",
      "[Jack of Diamonds]\n",
      "[Two of Diamonds]\n",
      "[Three of Spades]\n",
      "[Ten of Spades]\n",
      "[Queen of Hearts]\n",
      "[Eight of Clubs]\n",
      "[Ace of Diamonds]\n",
      "[Queen of Diamonds]\n",
      "[Ten of Clubs]\n"
     ]
    }
   ],
   "source": [
    "new_deck = Deck()\n",
    "new_deck.shuffle()\n",
    "for card in new_deck.cards[:10] :\n",
    "    print(card)"
   ]
  },
  {
   "cell_type": "markdown",
   "metadata": {},
   "source": [
    "### Hand Class "
   ]
  },
  {
   "cell_type": "code",
   "execution_count": 6,
   "metadata": {},
   "outputs": [],
   "source": [
    "class Hand :\n",
    "    def __init__(self) :\n",
    "        self.cards = []\n",
    "        self.value = 0\n",
    "        self.aces = 0\n",
    "        \n",
    "    def add_card(self , card) :\n",
    "        self.cards.append(card)\n",
    "        self.value += values[card.rank]\n",
    "        \n",
    "        if card.rank == 'Ace' :\n",
    "            self.aces += 1\n",
    "        \n",
    "    def adjust_for_ace(self) :\n",
    "        # we will adjust ace value according to our requirement \n",
    "        # aces can have value either 1 or 11\n",
    "        while self.value > 21 and self.aces :\n",
    "            self.value -= 10\n",
    "            self.aces -= 1\n",
    "        "
   ]
  },
  {
   "cell_type": "code",
   "execution_count": 7,
   "metadata": {},
   "outputs": [
    {
     "name": "stdout",
     "output_type": "stream",
     "text": [
      "Pulled Card : [Nine of Diamonds]\n",
      "9\n"
     ]
    }
   ],
   "source": [
    "# test the above\n",
    "deck = Deck()\n",
    "deck.shuffle()\n",
    "\n",
    "player = Hand()\n",
    "pulled_card = deck.deal()\n",
    "print(f'Pulled Card : {pulled_card}')\n",
    "player.add_card(pulled_card)\n",
    "print(player.value)\n"
   ]
  },
  {
   "cell_type": "markdown",
   "metadata": {},
   "source": [
    "### Chip Class "
   ]
  },
  {
   "cell_type": "code",
   "execution_count": 8,
   "metadata": {},
   "outputs": [],
   "source": [
    "class Chips :\n",
    "    def __init__(self , total = 100) :\n",
    "        self.total = total \n",
    "        self.bet = 0\n",
    "        \n",
    "    def win_bet(self) :\n",
    "        self.total += self.bet\n",
    "    \n",
    "    def lose_bet(self) :\n",
    "        self.total -= self.bet"
   ]
  },
  {
   "cell_type": "markdown",
   "metadata": {},
   "source": [
    "## Game Functions "
   ]
  },
  {
   "cell_type": "code",
   "execution_count": 9,
   "metadata": {},
   "outputs": [],
   "source": [
    "def take_bet(chips) :\n",
    "    \n",
    "    while True :\n",
    "        try :\n",
    "            chips.bet = int(\n",
    "                input('How many chips you will bet ? : ')\n",
    "            )\n",
    "        except :\n",
    "            print('Sorry... Bet should be a Number..')\n",
    "        else :\n",
    "            break\n",
    "    "
   ]
  },
  {
   "cell_type": "code",
   "execution_count": 10,
   "metadata": {},
   "outputs": [
    {
     "name": "stdout",
     "output_type": "stream",
     "text": [
      "How many chips you will bet ? : 1000\n"
     ]
    }
   ],
   "source": [
    "take_bet(Chips())"
   ]
  },
  {
   "cell_type": "code",
   "execution_count": 11,
   "metadata": {},
   "outputs": [],
   "source": [
    "def hit(deck , hand) :\n",
    "    \n",
    "    single_card = deck.deal()\n",
    "    hand.add_card(single_card)\n",
    "    hand.adjust_for_ace()"
   ]
  },
  {
   "cell_type": "code",
   "execution_count": 12,
   "metadata": {},
   "outputs": [],
   "source": [
    "def hit_or_stand(deck , hand) :\n",
    "    global playing\n",
    "    \n",
    "    while True :\n",
    "        x = input('Hit or Stand ? (H/S) : ')\n",
    "        if x.lower() == 'h' :\n",
    "            hit(deck , hand)\n",
    "        elif x.lower() == 's' :\n",
    "            print('Player Stands Dealers Turn')\n",
    "            playing = False\n",
    "        else :\n",
    "            print('Sorry only H or S required..')\n",
    "            continue\n",
    "        break"
   ]
  },
  {
   "cell_type": "code",
   "execution_count": 22,
   "metadata": {},
   "outputs": [],
   "source": [
    "def show_some(player , dealer) :\n",
    "    \n",
    "    print(\"\\nDealer's Hand : \")\n",
    "    print('First Card Hidden!')\n",
    "    print(dealer.cards[1])\n",
    "    \n",
    "    print(\"\\nPlayer's Hard : \")\n",
    "    for card in player.cards :\n",
    "        print(card)\n",
    "\n",
    "def show_all(player , dealer) :\n",
    "    print(\"\\nDealer's Hand : \")\n",
    "    for card in dealer.cards :\n",
    "        print(card)\n",
    "        \n",
    "    print(f\"Value of Dealer's Hand : {dealer.value}\")\n",
    "    \n",
    "    print(\"\\nPlayer's Hard : \")\n",
    "    for card in player.cards :\n",
    "        print(card)\n",
    "    print(f\"Value of Player's Hand : {player.value}\")"
   ]
  },
  {
   "cell_type": "code",
   "execution_count": 23,
   "metadata": {},
   "outputs": [],
   "source": [
    "def player_busts(player , dealer,chips) :\n",
    "    print('BUST PLAYER!')\n",
    "    chips.lose_bet()\n",
    "\n",
    "def player_wins(player , dealer,chips) :\n",
    "    print('PLAYER WINS!')\n",
    "    chips.win_bet()\n",
    "\n",
    "def dealer_busts(player , dealer,chips) :\n",
    "    print('PLAYER WINS! DEALER BUSTED')\n",
    "    chips.win_bet()\n",
    "\n",
    "def dealer_wins(player , dealer,chips) :\n",
    "    print('BUST PLAYER! DEALER WINS')\n",
    "    chips.lose_bet()\n",
    "\n",
    "def push(player , dealer) :\n",
    "    print('DEALER AND PLAYER TIE! Push...')\n"
   ]
  },
  {
   "cell_type": "markdown",
   "metadata": {},
   "source": [
    "## Game Logic "
   ]
  },
  {
   "cell_type": "code",
   "execution_count": null,
   "metadata": {},
   "outputs": [
    {
     "name": "stdout",
     "output_type": "stream",
     "text": [
      "Welcome To BlackJack\n",
      "How many chips you will bet ? : 50\n",
      "\n",
      "Dealer's Hand : \n",
      "First Card Hidden!\n",
      "[Two of Hearts]\n",
      "\n",
      "Player's Hard : \n",
      "[Four of Spades]\n",
      "[Six of Hearts]\n",
      "Hit or Stand ? (H/S) : H\n",
      "\n",
      "Dealer's Hand : \n",
      "First Card Hidden!\n",
      "[Two of Hearts]\n",
      "\n",
      "Player's Hard : \n",
      "[Four of Spades]\n",
      "[Six of Hearts]\n",
      "[Seven of Clubs]\n",
      "Hit or Stand ? (H/S) : H\n",
      "\n",
      "Dealer's Hand : \n",
      "First Card Hidden!\n",
      "[Two of Hearts]\n",
      "\n",
      "Player's Hard : \n",
      "[Four of Spades]\n",
      "[Six of Hearts]\n",
      "[Seven of Clubs]\n",
      "[Ten of Diamonds]\n",
      "BUST PLAYER!\n",
      "Welcome To BlackJack\n"
     ]
    }
   ],
   "source": [
    "\n",
    "playing = True\n",
    "while True :\n",
    "\n",
    "    print('Welcome To BlackJack')\n",
    "    deck = Deck()\n",
    "    deck.shuffle()\n",
    "    \n",
    "    #player hand\n",
    "    player_hand = Hand()\n",
    "    player_hand.add_card(deck.deal())\n",
    "    player_hand.add_card(deck.deal())\n",
    "    \n",
    "    #dealer hand\n",
    "    dealer_hand = Hand()\n",
    "    dealer_hand.add_card(deck.deal())\n",
    "    dealer_hand.add_card(deck.deal())\n",
    "    \n",
    "    # initialising chips\n",
    "    chips = Chips()\n",
    "    \n",
    "    take_bet(chips)\n",
    "    \n",
    "    show_some(player_hand , dealer_hand)\n",
    "    \n",
    "    while playing :\n",
    "        hit_or_stand(deck , player_hand)\n",
    "        \n",
    "        show_some(player_hand , dealer_hand)\n",
    "        \n",
    "        if player_hand.value > 21 :\n",
    "            player_busts(player_hand , dealer_hand , chips)\n",
    "            \n",
    "            break\n",
    "    \n",
    "    if player_hand.value <= 21 :\n",
    "        \n",
    "        while dealer_hand.value < 17 :\n",
    "            hit(deck , dealer_hand)\n",
    "            \n",
    "        show_all(player_hand , dealer_hand)\n",
    "        \n",
    "        if dealer_hand.value > 21 :\n",
    "            dealer_busts(player_hand , dealer_hand , chips)\n",
    "        elif dealer_hand.value > player_hand.value :\n",
    "            dealer_wins(player_hand , dealer_hand , chips)\n",
    "        elif dealer_hand.value < player_hand.value :\n",
    "            player_wins(player_hand , dealer_hand , chips)\n",
    "        else :\n",
    "            push(player_hand , dealer_hand)\n",
    "            \n",
    "        print(f'\\nPlayer total chips : {chips.total}')\n",
    "        \n",
    "        \n",
    "        new_game = input('Do you want a play another game ? (y/n) : ')\n",
    "        if new_game[0].lower() == 'y' :\n",
    "            playing = True\n",
    "            continue\n",
    "        else :\n",
    "            print('Thank you for playing')\n",
    "            playing = False\n",
    "            break\n",
    "    "
   ]
  },
  {
   "cell_type": "code",
   "execution_count": null,
   "metadata": {},
   "outputs": [],
   "source": []
  }
 ],
 "metadata": {
  "kernelspec": {
   "display_name": "Python 3",
   "language": "python",
   "name": "python3"
  },
  "language_info": {
   "codemirror_mode": {
    "name": "ipython",
    "version": 3
   },
   "file_extension": ".py",
   "mimetype": "text/x-python",
   "name": "python",
   "nbconvert_exporter": "python",
   "pygments_lexer": "ipython3",
   "version": "3.7.4"
  }
 },
 "nbformat": 4,
 "nbformat_minor": 2
}
